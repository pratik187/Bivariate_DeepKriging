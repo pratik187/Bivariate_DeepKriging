{
 "cells": [
  {
   "cell_type": "code",
   "execution_count": 1,
   "id": "6a5c2ced",
   "metadata": {},
   "outputs": [],
   "source": [
    "import pandas as pd\n",
    "import keras\n",
    "from keras.models import Sequential,Model\n",
    "from keras.layers import Dense, Dropout, BatchNormalization,Input\n",
    "from keras.wrappers.scikit_learn import KerasRegressor\n",
    "from keras.callbacks import EarlyStopping, ModelCheckpoint\n",
    "from sklearn.model_selection import cross_val_score\n",
    "from sklearn.model_selection import KFold\n",
    "from sklearn.preprocessing import StandardScaler\n",
    "from sklearn.pipeline import Pipeline\n",
    "import numpy as np\n",
    "from numpy import exp\n",
    "# Library for Gaussian process\n",
    "# import GPy\n",
    "##Library for visualization\n",
    "import matplotlib.pyplot as plt\n",
    "%matplotlib inline\n",
    "%config InlineBackend.figure_format = 'svg'\n",
    "import matplotlib;matplotlib.rcParams['figure.figsize'] = (8,6)\n",
    "from sklearn.model_selection import train_test_split\n",
    "import pylab \n",
    "import time"
   ]
  },
  {
   "cell_type": "code",
   "execution_count": 2,
   "id": "f89b6da7",
   "metadata": {},
   "outputs": [],
   "source": [
    "df_loc = pd.read_csv(\"../synthetic_data_simulations/2D_matern_nonstatiopnary_noise.csv\", sep = \",\")\n",
    "N = len(df_loc)\n",
    "\n",
    "s = np.vstack((df_loc[\"x\"],df_loc[\"y\"])).T\n",
    "\n",
    "# ## Nonstationary data generation\n",
    "# var1 = 10*np.sin(21*(((s[:,0] + s[:,1])**2)/2 -0.9)**4) * np.cos(17*((s[:,0] + \n",
    "#                                                                   s[:,1])/2 -0.9)) + ((\n",
    "#                                                                 s[:,0] + s[:,1])/2 -0.9)/2 \n",
    "# var2 = 10*np.sin(-31*(((s[:,0] + s[:,1])**2)/1.7 -0.45)**2) * np.cos(8.894*((s[:,0] + \n",
    "#                                                                   s[:,1])/2 -0.8)) + ((\n",
    "#                                                                 s[:,0] + s[:,1])/2 -0.8)/3 \n",
    "## Nonstationary data generation\n",
    "s_bar = (s[:,0] + s[:,1])/2\n",
    "var1 = np.sin(5*((s_bar) -0.9))*np.cos(25*((s_bar) -0.9)**4) + ((s_bar) -0.9)/2\n",
    "var2 = np.sin(2*((s_bar) -0.9)) * np.cos(30*((s_bar) -0.9)**4) - ((s_bar) -0.9)/2 \n",
    "\n",
    "\n",
    "## Nonstationary data generation\n",
    "# var1 = np.sin((((df_loc[\"var1\"])**2)/2 )) * np.cos(1.7*((df_loc[\"var1\"])/2 -0.9)) + ((\n",
    "#                                                                 s[:,0] + s[:,1])/2 -0.9)/2 \n",
    "# var2 = np.sin(-(((df_loc[\"var2\"] )**2)/1.7 )**2) * np.cos(1.894*((df_loc[\"var2\"] )/2 -0.8)) + ((\n",
    "#                                                                 s[:,0] + s[:,1])/2 -0.8)/3 \n",
    "\n",
    "z1 = var1 + df_loc[\"var1\"]\n",
    "z2 = var2 + df_loc[\"var2\"]\n",
    "\n",
    "y = np.vstack((z1,z2)).T"
   ]
  },
  {
   "cell_type": "code",
   "execution_count": 3,
   "id": "3947fc2f",
   "metadata": {},
   "outputs": [],
   "source": [
    "num_basis = [2**2,5**2,9**2]\n",
    "# num_basis = [2**2,5**2,9**2]\n",
    "knots_1d = [np.linspace(0,1,int(np.sqrt(i))) for i in num_basis]\n",
    "#knots_1d = [np.linspace(0,1,i) for i in num_basis]\n",
    "##Wendland kernel\n",
    "K = 0\n",
    "phi = np.zeros((N, sum(num_basis)))\n",
    "for res in range(len(num_basis)):\n",
    "    theta = 1/np.sqrt(num_basis[res])*2.5\n",
    "    knots_s1, knots_s2 = np.meshgrid(knots_1d[res],knots_1d[res])\n",
    "    knots = np.column_stack((knots_s1.flatten(),knots_s2.flatten()))\n",
    "    for i in range(num_basis[res]):\n",
    "        d = np.linalg.norm(s-knots[i,:],axis=1)/theta\n",
    "        for j in range(len(d)):\n",
    "            if d[j] >= 0 and d[j] <= 1:\n",
    "                phi[j,i + K] = (1-d[j])**6 * (35 * d[j]**2 + 18 * d[j] + 3)/3\n",
    "            else:\n",
    "                phi[j,i + K] = 0\n",
    "    K = K + num_basis[res]\n",
    "\n",
    "### Train Test split\n",
    "from sklearn.model_selection import train_test_split\n",
    "indices = np.arange(N)\n",
    "## Split the training and testing sets"
   ]
  },
  {
   "cell_type": "code",
   "execution_count": 4,
   "id": "e5aa714d",
   "metadata": {},
   "outputs": [
    {
     "data": {
      "text/plain": [
       "(1200, 110)"
      ]
     },
     "execution_count": 4,
     "metadata": {},
     "output_type": "execute_result"
    }
   ],
   "source": [
    "phi.shape"
   ]
  },
  {
   "cell_type": "markdown",
   "id": "0ffebc06",
   "metadata": {},
   "source": [
    "## Cross validation "
   ]
  },
  {
   "cell_type": "code",
   "execution_count": 5,
   "id": "792de94f",
   "metadata": {},
   "outputs": [],
   "source": [
    "## Functions for calculation of MSE and MAE\n",
    "def mse(y_pred,y_true):\n",
    "    mse = np.mean((y_pred-y_true)**2)\n",
    "    return mse\n",
    "\n",
    "def mae(y_pred,y_true):\n",
    "    mae = np.mean(np.absolute(y_pred-y_true))\n",
    "    return mae\n",
    "\n",
    "mse_var1 = []\n",
    "mse_var2 = []"
   ]
  },
  {
   "cell_type": "code",
   "execution_count": 7,
   "id": "d31db91d",
   "metadata": {},
   "outputs": [],
   "source": [
    "mse_var1 = []\n",
    "mse_var2 = []\n",
    "start_time = time.time()\n",
    "for i in range(10):\n",
    "\n",
    "    s_train, s_test, encoder_train, encoder_test    , y_train, y_test= train_test_split(s, phi, y, \n",
    "                                                                                        test_size=0.33)\n",
    "    # DeepKriging model for continuous data\n",
    "    model = Sequential()\n",
    "    # model.add(Dense(100, input_dim = 2,  kernel_initializer='he_uniform', activation='relu'))\n",
    "    model.add(Dense(100, input_dim = encoder_train.shape[1],  kernel_initializer='he_uniform', activation='relu'))\n",
    "    # model.add(Dropout(rate=0.5))\n",
    "    # model.add(BatchNormalization())\n",
    "    model.add(Dense(100, activation='relu'))\n",
    "    model.add(Dense(100, activation='relu'))\n",
    "    #     model.add(Dense(100, activation='relu'))\n",
    "    model.add(Dense(50, activation='relu'))\n",
    "    # model.add(Dense(100, activation='relu'))\n",
    "    #model.add(Dropout(rate=0.5))\n",
    "    model.add(Dense(50, activation='relu'))\n",
    "    #model.add(BatchNormalization())\n",
    "    model.add(Dense(2, activation='linear'))\n",
    "    NB_START_EPOCHS = 50 \n",
    "    # NB_START_EPOCHS = 200  # Number of epochs we usually start to train with\n",
    "    BATCH_SIZE = 64  \n",
    "    fold_no = 1\n",
    "    optimizer = keras.optimizers.Adam(lr=0.001)\n",
    "    model.compile(optimizer=optimizer, loss='mse', metrics=['mse','mae'])\n",
    "    \n",
    "    result = model.fit(encoder_train, y_train, \n",
    "                       validation_data=(encoder_test,y_test), epochs = 300, batch_size = 64, verbose = 2)\n",
    "\n",
    "    callbacks = [EarlyStopping(monitor='val_loss', patience=100),\n",
    "                 ModelCheckpoint(filepath='Biv_nonStationary_model.h5', monitor='val_loss', save_best_only=True)]\n",
    "    result = model.fit(encoder_train, y_train, callbacks=callbacks, \n",
    "                       validation_data=(encoder_test,y_test), epochs = 200, batch_size = 64, verbose = 2)\n",
    "    model = keras.models.load_model('Biv_nonStationary_model.h5')\n",
    "    y_pred = model.predict(encoder_test)\n",
    "\n",
    "    # Mean Squared Error\n",
    "    mse_var1.append(mse(y_pred[:,0], y_test[:,0]))\n",
    "    mse_var2.append(mse(y_pred[:,1], y_test[:,1]))\n",
    "\n",
    "end_time = time.time()\n",
    "print(\"%s seconds\", end_time - start_time)"
   ]
  },
  {
   "cell_type": "code",
   "execution_count": 10,
   "id": "85de3b57",
   "metadata": {},
   "outputs": [
    {
     "name": "stdout",
     "output_type": "stream",
     "text": [
      "mean var 1 :  nan\n",
      "mean var 2 :  nan\n",
      "variance var 1 :  nan\n"
     ]
    }
   ],
   "source": [
    "print(\"mean var 1 : \",np.mean(mse_var1))\n",
    "print(\"mean var 2 : \",np.mean(mse_var2))\n",
    "print(\"variance var 1 : \",np.var(mse_var1))\n",
    "print(\"variance var 2 : \",np.var(mse_var2))\n"
   ]
  },
  {
   "cell_type": "code",
   "execution_count": 11,
   "id": "5a5942c6",
   "metadata": {},
   "outputs": [],
   "source": [
    "# mse_var1\n",
    "\n"
   ]
  },
  {
   "cell_type": "code",
   "execution_count": 10,
   "id": "7666dee5",
   "metadata": {},
   "outputs": [],
   "source": [
    "df_mse = pd.DataFrame(np.vstack((mse_var1,mse_var2)).T, columns = [\"mse_var1\",\"mse_var2\"])\n",
    "\n",
    "df_mse.to_csv(\"../plot_results/DeepKriging_nonstationary_mse.csv\")"
   ]
  },
  {
   "cell_type": "code",
   "execution_count": 256,
   "id": "9112c59f",
   "metadata": {},
   "outputs": [],
   "source": [
    "df = pd.read_csv(\"../test_data_nonstationary.csv\")"
   ]
  },
  {
   "cell_type": "code",
   "execution_count": 258,
   "id": "815c4c20",
   "metadata": {},
   "outputs": [],
   "source": [
    "s = np.vstack((df[\"x\"],df[\"y\"])).T\n",
    "N = 400\n",
    "num_basis = [2**2,5**2,9**2]\n",
    "# num_basis = [2**2,5**2,9**2]\n",
    "knots_1d = [np.linspace(0,1,int(np.sqrt(i))) for i in num_basis]\n",
    "#knots_1d = [np.linspace(0,1,i) for i in num_basis]\n",
    "##Wendland kernel\n",
    "K = 0\n",
    "phi = np.zeros((N, sum(num_basis)))\n",
    "for res in range(len(num_basis)):\n",
    "    theta = 1/np.sqrt(num_basis[res])*2.5\n",
    "    knots_s1, knots_s2 = np.meshgrid(knots_1d[res],knots_1d[res])\n",
    "    knots = np.column_stack((knots_s1.flatten(),knots_s2.flatten()))\n",
    "    for i in range(num_basis[res]):\n",
    "        d = np.linalg.norm(s-knots[i,:],axis=1)/theta\n",
    "        for j in range(len(d)):\n",
    "            if d[j] >= 0 and d[j] <= 1:\n",
    "                phi[j,i + K] = (1-d[j])**6 * (35 * d[j]**2 + 18 * d[j] + 3)/3\n",
    "            else:\n",
    "                phi[j,i + K] = 0\n",
    "    K = K + num_basis[res]"
   ]
  },
  {
   "cell_type": "code",
   "execution_count": 260,
   "id": "268f26d1",
   "metadata": {},
   "outputs": [],
   "source": [
    "y_val = np.array(df[[\"var1\",\"var2\"]])"
   ]
  },
  {
   "cell_type": "code",
   "execution_count": 259,
   "id": "e79c8aa9",
   "metadata": {},
   "outputs": [],
   "source": [
    "y_pred = model.predict(phi)"
   ]
  },
  {
   "cell_type": "code",
   "execution_count": 261,
   "id": "d8918718",
   "metadata": {},
   "outputs": [
    {
     "name": "stdout",
     "output_type": "stream",
     "text": [
      "0.0004940607382401042\n",
      "0.0009199529709178571\n"
     ]
    }
   ],
   "source": [
    "print(mse(y_pred[:,0], y_val[:,0]))\n",
    "print(mse(y_pred[:,1], y_val[:,1]))"
   ]
  },
  {
   "cell_type": "code",
   "execution_count": 262,
   "id": "c0154936",
   "metadata": {},
   "outputs": [],
   "source": [
    "df_pred = pd.DataFrame(y_pred, columns = [\"var1\",\"var2\"])"
   ]
  },
  {
   "cell_type": "code",
   "execution_count": 263,
   "id": "aca38eab",
   "metadata": {},
   "outputs": [],
   "source": [
    "\n",
    "df_pred.to_csv(\"../plot_results/nonstationary_predictions.csv\")"
   ]
  },
  {
   "cell_type": "markdown",
   "id": "f0213331",
   "metadata": {},
   "source": [
    "mean var 1 :  0.22820623264308693\n",
    "mean var 2 :  0.48655204661394913\n",
    "variance var 1 :  0.0366674693298505\n",
    "variance var 2 :  0.18084126005806087"
   ]
  },
  {
   "cell_type": "code",
   "execution_count": 32,
   "id": "69fae0e3",
   "metadata": {},
   "outputs": [],
   "source": [
    "df_train_loc = pd.DataFrame(s_train, columns = [\"x\",\"y\"])\n",
    "df_train_val = pd.DataFrame(y_train, columns = [\"var1\",\"var2\"])\n",
    "df_train = pd.concat([df_train_loc,df_train_val], axis = 1)\n",
    "df_train.to_csv(\"2d_biv_nonStationary_training.csv\")\n",
    "\n",
    "df_test_loc = pd.DataFrame(s_test, columns = [\"x\",\"y\"])\n",
    "df_test_val = pd.DataFrame(y_test, columns = [\"var1\",\"var2\"])\n",
    "df_test = pd.concat([df_test_loc,df_test_val], axis = 1)\n",
    "df_test.to_csv(\"2d_biv_nonStationary_testing.csv\")"
   ]
  },
  {
   "cell_type": "code",
   "execution_count": 3,
   "id": "af60cfd1",
   "metadata": {},
   "outputs": [],
   "source": [
    "df_loc = pd.DataFrame(s,columns = [\"x\",\"y\"])\n",
    "df_val = pd.DataFrame(y, columns = [\"var1\",\"var2\"])\n",
    "df = pd.concat([df_loc,df_val], axis = 1)\n",
    "df.to_csv(\"../synthetic_data_simulations/2d_biv_nonStationary_1200.csv\")"
   ]
  },
  {
   "cell_type": "code",
   "execution_count": 240,
   "id": "e7c4b866",
   "metadata": {},
   "outputs": [
    {
     "data": {
      "text/html": [
       "<div>\n",
       "<style scoped>\n",
       "    .dataframe tbody tr th:only-of-type {\n",
       "        vertical-align: middle;\n",
       "    }\n",
       "\n",
       "    .dataframe tbody tr th {\n",
       "        vertical-align: top;\n",
       "    }\n",
       "\n",
       "    .dataframe thead th {\n",
       "        text-align: right;\n",
       "    }\n",
       "</style>\n",
       "<table border=\"1\" class=\"dataframe\">\n",
       "  <thead>\n",
       "    <tr style=\"text-align: right;\">\n",
       "      <th></th>\n",
       "      <th>x</th>\n",
       "      <th>y</th>\n",
       "      <th>var1</th>\n",
       "      <th>var2</th>\n",
       "    </tr>\n",
       "  </thead>\n",
       "  <tbody>\n",
       "    <tr>\n",
       "      <th>0</th>\n",
       "      <td>0.000000</td>\n",
       "      <td>0.0</td>\n",
       "      <td>-1.201086</td>\n",
       "      <td>-0.204747</td>\n",
       "    </tr>\n",
       "    <tr>\n",
       "      <th>1</th>\n",
       "      <td>0.025641</td>\n",
       "      <td>0.0</td>\n",
       "      <td>-1.382359</td>\n",
       "      <td>-0.501741</td>\n",
       "    </tr>\n",
       "    <tr>\n",
       "      <th>2</th>\n",
       "      <td>0.051282</td>\n",
       "      <td>0.0</td>\n",
       "      <td>-0.867809</td>\n",
       "      <td>0.188713</td>\n",
       "    </tr>\n",
       "    <tr>\n",
       "      <th>3</th>\n",
       "      <td>0.076923</td>\n",
       "      <td>0.0</td>\n",
       "      <td>-0.103645</td>\n",
       "      <td>1.105079</td>\n",
       "    </tr>\n",
       "    <tr>\n",
       "      <th>4</th>\n",
       "      <td>0.102564</td>\n",
       "      <td>0.0</td>\n",
       "      <td>0.395502</td>\n",
       "      <td>1.406360</td>\n",
       "    </tr>\n",
       "  </tbody>\n",
       "</table>\n",
       "</div>"
      ],
      "text/plain": [
       "          x    y      var1      var2\n",
       "0  0.000000  0.0 -1.201086 -0.204747\n",
       "1  0.025641  0.0 -1.382359 -0.501741\n",
       "2  0.051282  0.0 -0.867809  0.188713\n",
       "3  0.076923  0.0 -0.103645  1.105079\n",
       "4  0.102564  0.0  0.395502  1.406360"
      ]
     },
     "execution_count": 240,
     "metadata": {},
     "output_type": "execute_result"
    }
   ],
   "source": [
    "df.head()"
   ]
  }
 ],
 "metadata": {
  "kernelspec": {
   "display_name": "Python 3",
   "language": "python",
   "name": "python3"
  },
  "language_info": {
   "codemirror_mode": {
    "name": "ipython",
    "version": 3
   },
   "file_extension": ".py",
   "mimetype": "text/x-python",
   "name": "python",
   "nbconvert_exporter": "python",
   "pygments_lexer": "ipython3",
   "version": "3.8.8"
  }
 },
 "nbformat": 4,
 "nbformat_minor": 5
}
