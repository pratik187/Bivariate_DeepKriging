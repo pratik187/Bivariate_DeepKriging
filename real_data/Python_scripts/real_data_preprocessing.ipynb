{
 "cells": [
  {
   "cell_type": "code",
   "execution_count": 2,
   "id": "54372d5d",
   "metadata": {},
   "outputs": [],
   "source": [
    "import numpy as np\n",
    "import pandas as pd\n"
   ]
  },
  {
   "cell_type": "code",
   "execution_count": 3,
   "id": "a8aaabba",
   "metadata": {},
   "outputs": [],
   "source": [
    "df = pd.read_csv(\"../training_real_dataset_450000.csv\")"
   ]
  },
  {
   "cell_type": "code",
   "execution_count": 4,
   "id": "cb6a19d9",
   "metadata": {},
   "outputs": [
    {
     "data": {
      "text/plain": [
       "147000"
      ]
     },
     "execution_count": 4,
     "metadata": {},
     "output_type": "execute_result"
    }
   ],
   "source": [
    "len(df)"
   ]
  },
  {
   "cell_type": "code",
   "execution_count": 54,
   "id": "16810ed1",
   "metadata": {},
   "outputs": [],
   "source": [
    "lon_split = [30.23032, 33.68425 ,37.13819, 40.59213, 44.04607, 47.50000 ,\n",
    "             50.95394, 54.40788, 57.86182 ,61.31575,64.76969]\n",
    "lat_split = [5.203834 , 8.163067 ,11.122300 ,14.081533 ,17.040766 ,20.000000 ,\n",
    "             22.959233, 25.918466 ,28.877699 ,31.836932 ,34.79617]"
   ]
  },
  {
   "cell_type": "code",
   "execution_count": 57,
   "id": "28268935",
   "metadata": {},
   "outputs": [],
   "source": [
    "list_of_df = []\n",
    "\n",
    "for i in range(len(lon_split)-1):\n",
    "    for j in range(len(lat_split)-1):\n",
    "        df1 = df.loc[(df[\"lon\"] >=lon_split[i]) & (df[\"lon\"] <lon_split[i+1]) & \n",
    "                     (df[\"lat\"] >=lat_split[j]) & (df[\"lat\"] <lat_split[j+1])]\n",
    "        list_of_df.append(df1)"
   ]
  },
  {
   "cell_type": "code",
   "execution_count": 19,
   "id": "3b3a24d3",
   "metadata": {},
   "outputs": [],
   "source": [
    "df1 = df.loc[(df[\"lon\"] >=lon_split[6])]\n",
    "list_of_df.append(df1)"
   ]
  },
  {
   "cell_type": "code",
   "execution_count": 58,
   "id": "277f97df",
   "metadata": {},
   "outputs": [
    {
     "data": {
      "text/plain": [
       "100"
      ]
     },
     "execution_count": 58,
     "metadata": {},
     "output_type": "execute_result"
    }
   ],
   "source": [
    "\n",
    "len(list_of_df)"
   ]
  },
  {
   "cell_type": "code",
   "execution_count": 60,
   "id": "4d47ca35",
   "metadata": {},
   "outputs": [
    {
     "data": {
      "text/plain": [
       "1458"
      ]
     },
     "execution_count": 60,
     "metadata": {},
     "output_type": "execute_result"
    }
   ],
   "source": [
    "len(list_of_df[57])\n"
   ]
  },
  {
   "cell_type": "code",
   "execution_count": 42,
   "id": "ba284e48",
   "metadata": {},
   "outputs": [
    {
     "data": {
      "text/plain": [
       "9.47628307342529"
      ]
     },
     "execution_count": 42,
     "metadata": {},
     "output_type": "execute_result"
    }
   ],
   "source": [
    "min(df1[\"lat\"])"
   ]
  },
  {
   "cell_type": "code",
   "execution_count": 61,
   "id": "67bc6788",
   "metadata": {},
   "outputs": [],
   "source": [
    "count = 0\n",
    "for i in range(100):\n",
    "    file_name = \"../splitted_data/dataset_\"+str(i)+\".csv\"\n",
    "    list_of_df[i].to_csv(file_name)"
   ]
  },
  {
   "cell_type": "code",
   "execution_count": 5,
   "id": "d645d9fe",
   "metadata": {},
   "outputs": [],
   "source": [
    "df = pd.read_csv(\"../testing_real_dataset_450000.csv\")"
   ]
  },
  {
   "cell_type": "code",
   "execution_count": 6,
   "id": "a9087fe7",
   "metadata": {},
   "outputs": [
    {
     "data": {
      "text/plain": [
       "358304"
      ]
     },
     "execution_count": 6,
     "metadata": {},
     "output_type": "execute_result"
    }
   ],
   "source": [
    "len(df)"
   ]
  },
  {
   "cell_type": "code",
   "execution_count": 70,
   "id": "ec07433a",
   "metadata": {},
   "outputs": [],
   "source": [
    "lon_split = [30.23032, 33.68425 ,37.13819, 40.59213, 44.04607, 47.50000 ,\n",
    "             50.95394, 54.40788, 57.86182 ,61.31575,64.76969]\n",
    "lat_split = [5.203834 , 8.163067 ,11.122300 ,14.081533 ,17.040766 ,20.000000 ,\n",
    "             22.959233, 25.918466 ,28.877699 ,31.836932 ,34.79617]\n",
    "\n",
    "list_of_df = []\n",
    "\n",
    "for i in range(len(lon_split)-1):\n",
    "    for j in range(len(lat_split)-1):\n",
    "        df1 = df.loc[(df[\"lon\"] >=lon_split[i]) & (df[\"lon\"] <lon_split[i+1]) & \n",
    "                     (df[\"lat\"] >=lat_split[j]) & (df[\"lat\"] <lat_split[j+1])]\n",
    "        list_of_df.append(df1)"
   ]
  },
  {
   "cell_type": "code",
   "execution_count": 72,
   "id": "b4f759c0",
   "metadata": {},
   "outputs": [
    {
     "data": {
      "text/plain": [
       "3624"
      ]
     },
     "execution_count": 72,
     "metadata": {},
     "output_type": "execute_result"
    }
   ],
   "source": [
    "len(list_of_df[57])"
   ]
  },
  {
   "cell_type": "code",
   "execution_count": 69,
   "id": "c3038b42",
   "metadata": {},
   "outputs": [
    {
     "data": {
      "text/plain": [
       "359771"
      ]
     },
     "execution_count": 69,
     "metadata": {},
     "output_type": "execute_result"
    }
   ],
   "source": [
    "len(df)"
   ]
  },
  {
   "cell_type": "code",
   "execution_count": 77,
   "id": "a7afee3d",
   "metadata": {},
   "outputs": [
    {
     "name": "stderr",
     "output_type": "stream",
     "text": [
      "<ipython-input-77-7167c4434fbf>:4: SettingWithCopyWarning: \n",
      "A value is trying to be set on a copy of a slice from a DataFrame.\n",
      "Try using .loc[row_indexer,col_indexer] = value instead\n",
      "\n",
      "See the caveats in the documentation: https://pandas.pydata.org/pandas-docs/stable/user_guide/indexing.html#returning-a-view-versus-a-copy\n",
      "  df1[\"name\"] = i+1\n"
     ]
    }
   ],
   "source": [
    "modified_df = pd.DataFrame()\n",
    "for i in range(100):\n",
    "    df1 = list_of_df[i]\n",
    "    df1[\"name\"] = i+1\n",
    "#     break\n",
    "    modified_df = modified_df.append(df1)"
   ]
  },
  {
   "cell_type": "code",
   "execution_count": 79,
   "id": "82dd6c62",
   "metadata": {},
   "outputs": [
    {
     "data": {
      "text/plain": [
       "358304"
      ]
     },
     "execution_count": 79,
     "metadata": {},
     "output_type": "execute_result"
    }
   ],
   "source": [
    "len(modified_df)"
   ]
  },
  {
   "cell_type": "code",
   "execution_count": 80,
   "id": "fa8af6e2",
   "metadata": {},
   "outputs": [],
   "source": [
    "modified_df.to_csv(\"../testing_real_dataset.csv\")"
   ]
  }
 ],
 "metadata": {
  "kernelspec": {
   "display_name": "Python 3",
   "language": "python",
   "name": "python3"
  },
  "language_info": {
   "codemirror_mode": {
    "name": "ipython",
    "version": 3
   },
   "file_extension": ".py",
   "mimetype": "text/x-python",
   "name": "python",
   "nbconvert_exporter": "python",
   "pygments_lexer": "ipython3",
   "version": "3.8.8"
  }
 },
 "nbformat": 4,
 "nbformat_minor": 5
}
